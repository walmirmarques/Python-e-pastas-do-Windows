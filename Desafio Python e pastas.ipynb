{
 "cells": [
  {
   "cell_type": "markdown",
   "metadata": {},
   "source": [
    "### Desafio\n",
    "\n",
    "Você trabalha em uma empresa que tem 18 lojas espalhadas por todo Brasil e divididas em 5 estados diferentes: \n",
    "\n",
    "* RJ\n",
    "* SP\n",
    "* MG\n",
    "* GO\n",
    "* AM\n",
    "\n",
    "Todo trimestre, são calculados os indicadores de cada funcionário de cada loja e esses indicadores são armazenados em um arquivo em Excel.\n",
    "\n",
    "Cada estado tem um gerente geral responsável por todas as lojas daquele estado. \n",
    "\n",
    "Pediram para você enviar para cada gerente geral todas as bases de indicadores correspondentes as lojas que ele é responsável, porque as equipes deles precisam desses indicadores. \n",
    "\n",
    "Obs: Não vamos enviar por e-mail porque ainda não aprendemos a fazer isso, mas vamos deixar todos os arquivos em uma pasta única para cada gerentes, ou seja, para cada estado. \n",
    "\n",
    "Então o seu desafio é separar todos os arquivos de forma que cada arquivo esteja na pasta do estado correspondente. "
   ]
  },
  {
   "cell_type": "code",
   "execution_count": 2,
   "metadata": {},
   "outputs": [],
   "source": [
    "# Importando as bibliotecas\n",
    "from pathlib import Path\n",
    "import shutil\n",
    "\n",
    "# Para facilitar os caminhos, coloquei a pasta das planilhas em uma pasta no C:\\Users\\Walmir\\Documents\n",
    "\n",
    "caminho = Path('C:/Users/Walmir/Documents/Desafio Python')\n",
    "\n",
    "# Criando uma nova pasta \n",
    "\n",
    "Path('Arquivos Separados').mkdir()"
   ]
  },
  {
   "cell_type": "code",
   "execution_count": null,
   "metadata": {},
   "outputs": [],
   "source": []
  }
 ],
 "metadata": {
  "interpreter": {
   "hash": "2be5faf79681da6f2a61fdfdd5405d65d042280f7fba6178067603e3a2925119"
  },
  "kernelspec": {
   "display_name": "Python 3.10.2 64-bit",
   "language": "python",
   "name": "python3"
  },
  "language_info": {
   "codemirror_mode": {
    "name": "ipython",
    "version": 3
   },
   "file_extension": ".py",
   "mimetype": "text/x-python",
   "name": "python",
   "nbconvert_exporter": "python",
   "pygments_lexer": "ipython3",
   "version": "3.10.2"
  },
  "orig_nbformat": 4
 },
 "nbformat": 4,
 "nbformat_minor": 2
}
